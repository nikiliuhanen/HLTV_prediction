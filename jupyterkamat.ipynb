{
 "cells": [
  {
   "cell_type": "code",
   "execution_count": 1,
   "metadata": {},
   "outputs": [
    {
     "data": {
      "text/plain": [
       "0                /team/7175/heroic\n",
       "1              /team/9565/vitality\n",
       "2         /team/4608/natus-vincere\n",
       "3                    /team/5995/g2\n",
       "4                  /team/6667/faze\n",
       "5                /team/5752/cloud9\n",
       "6                /team/5973/liquid\n",
       "7                 /team/8297/furia\n",
       "8                  /team/4869/ence\n",
       "9             /team/5378/virtuspro\n",
       "10                  /team/7532/big\n",
       "11                 /team/4494/mouz\n",
       "12                  /team/10503/og\n",
       "13    /team/4411/ninjas-in-pyjamas\n",
       "14               /team/4991/fnatic\n",
       "15                /team/8135/forze\n",
       "16                 /team/4773/pain\n",
       "17           /team/5005/complexity\n",
       "18                /team/10278/9ine\n",
       "19               /team/7020/spirit\n",
       "20             /team/6665/astralis\n",
       "21               /team/11811/monte\n",
       "22     /team/11518/bad-news-eagles\n",
       "23           /team/6248/themongolz\n",
       "24      /team/7718/movistar-riders\n",
       "25            /team/8008/grayhound\n",
       "26          /team/9928/gamerlegion\n",
       "27             /team/9455/imperial\n",
       "28            /team/11309/00nation\n",
       "29                 /team/9215/mibr\n",
       "Name: Team Page, dtype: object"
      ]
     },
     "execution_count": 1,
     "metadata": {},
     "output_type": "execute_result"
    }
   ],
   "source": [
    "import pandas as pd \n",
    "df = pd.read_csv(r'C:/Users/niki/Documents/hltv/oma_hltv/teams.csv')\n",
    "\n",
    "df.loc[:,\"Team Page\"]\n"
   ]
  },
  {
   "cell_type": "code",
   "execution_count": null,
   "metadata": {},
   "outputs": [],
   "source": []
  }
 ],
 "metadata": {
  "kernelspec": {
   "display_name": "base",
   "language": "python",
   "name": "python3"
  },
  "language_info": {
   "codemirror_mode": {
    "name": "ipython",
    "version": 3
   },
   "file_extension": ".py",
   "mimetype": "text/x-python",
   "name": "python",
   "nbconvert_exporter": "python",
   "pygments_lexer": "ipython3",
   "version": "3.9.13"
  },
  "orig_nbformat": 4
 },
 "nbformat": 4,
 "nbformat_minor": 2
}
